{
 "cells": [
  {
   "cell_type": "markdown",
   "id": "544e18b3-611f-428d-b327-2abd18e3ee32",
   "metadata": {},
   "source": [
    "# Data Science Tools and Ecosystem"
   ]
  },
  {
   "cell_type": "markdown",
   "id": "de1623a9-5c9a-4ad2-a850-af3b1188edc9",
   "metadata": {},
   "source": [
    "In this notebook, Data Science Tools and Ecosystem are summarized."
   ]
  },
  {
   "cell_type": "markdown",
   "id": "108797e9-5a61-41c3-969b-81fb63385069",
   "metadata": {},
   "source": [
    "Objectives:\n",
    "* Popular languages that Data Scientists use\n",
    "* Common libraries used by Data Scientists \n",
    "* Data Science Tools"
   ]
  },
  {
   "cell_type": "markdown",
   "id": "8d8846f1-b826-492b-ac63-87a615ab02fe",
   "metadata": {},
   "source": [
    "Some of the popular languages that Data Scientists use are:\n",
    "1. Python\n",
    "2. R\n",
    "3. Scala"
   ]
  },
  {
   "cell_type": "markdown",
   "id": "9af2e04a-b480-40ae-835b-4203637bb9b0",
   "metadata": {},
   "source": [
    "Some of the common libraries used by Data Scientists include:\n",
    "1. matplotlib\n",
    "2. plotly\n",
    "3. ggplot"
   ]
  },
  {
   "cell_type": "markdown",
   "id": "78097777-376b-4866-8844-0eb02274ce82",
   "metadata": {},
   "source": [
    "|Data Science Tools|\n",
    "| -------- |\n",
    "|RStudio|\n",
    "|Jupyter Notebook|\n",
    "|VS Code|"
   ]
  },
  {
   "cell_type": "markdown",
   "id": "fc7ce0e3-5020-4971-8fb8-0a0202cf1a4b",
   "metadata": {},
   "source": [
    "### Below are a few examples of evaluating arithmetic expressions in Python"
   ]
  },
  {
   "cell_type": "code",
   "execution_count": 3,
   "id": "095586f9-e712-45be-a7af-bd3357792be0",
   "metadata": {},
   "outputs": [
    {
     "data": {
      "text/plain": [
       "17"
      ]
     },
     "execution_count": 3,
     "metadata": {},
     "output_type": "execute_result"
    }
   ],
   "source": [
    "# This a simple arithmetic expression to mutiply then add integers\n",
    "(3*4)+5"
   ]
  },
  {
   "cell_type": "code",
   "execution_count": 6,
   "id": "28498947-d13f-4df7-9afb-c5b1ce8cb24e",
   "metadata": {},
   "outputs": [
    {
     "name": "stdout",
     "output_type": "stream",
     "text": [
      "3.3333333333333335 hours\n"
     ]
    }
   ],
   "source": [
    "# This will convert 200 minutes to hours by diving by 60\n",
    "print(str(200/60) + \" hours\")"
   ]
  },
  {
   "cell_type": "markdown",
   "id": "c198727b-4c72-484d-b521-2e0c5ad20353",
   "metadata": {},
   "source": [
    "## Author\n",
    "Mahad Sarfraz"
   ]
  },
  {
   "cell_type": "code",
   "execution_count": null,
   "id": "accab81b-9fc2-44a1-854d-1d0197c350c7",
   "metadata": {},
   "outputs": [],
   "source": []
  }
 ],
 "metadata": {
  "kernelspec": {
   "display_name": "Python 3 (ipykernel)",
   "language": "python",
   "name": "python3"
  },
  "language_info": {
   "codemirror_mode": {
    "name": "ipython",
    "version": 3
   },
   "file_extension": ".py",
   "mimetype": "text/x-python",
   "name": "python",
   "nbconvert_exporter": "python",
   "pygments_lexer": "ipython3",
   "version": "3.13.5"
  }
 },
 "nbformat": 4,
 "nbformat_minor": 5
}
